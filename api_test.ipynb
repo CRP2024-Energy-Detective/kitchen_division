{
 "cells": [
  {
   "cell_type": "code",
   "outputs": [
    {
     "name": "stdout",
     "output_type": "stream",
     "text": [
      "{'name': 'MARKENER', 'uuid': 'ae10c4c5-43b8-4535-a91d-dde0785a7cbf', 'structures': [{'name': 'CPE5 CHILLY', 'uuid': '2801104d-f289-432b-b354-7ac5effced0e', 'gateways': [{'name': 'enedis_50020804318283', 'uuid': '53d3ac1c-6f7e-45df-a0bd-6bdbaaed0106', 'datapoints': [{'name': 'Coût TELERELEVE_50020804318283_EA', 'uuid': 'e11efcf5-4357-46df-9ecc-135412cdd8ad', 'type': 'COST_INDEX'}, {'name': 'TELERELEVE_50020804318283_EA', 'uuid': 'd4e10211-ace9-4a01-a2ec-9253b5abaffc', 'type': 'TIC_ENEDIS'}, {'name': 'TELERELEVE_50020804318283_ER', 'uuid': '5497fba9-a0e9-41c8-8484-0cfaf88be474', 'type': 'TIC_ENEDIS_REACTIVE'}, {'name': 'TELERELEVE_50020804318283_ERC', 'uuid': 'ebcdddc2-436c-4598-8e5e-779abe4e9400', 'type': 'TIC_ENEDIS_REACTIVE'}, {'name': 'TELERELEVE_50020804318283_ERI', 'uuid': '1216a6cb-82b5-4422-8734-e3ae452974d4', 'type': 'TIC_ENEDIS_REACTIVE'}]}, {'name': 'manual', 'uuid': 'e49d6a1d-6b72-495c-bdee-4d7716b8cb20', 'datapoints': [{'name': \"Chiffre d'affaires\", 'uuid': 'e75fed0f-6a07-4e80-8b9d-808a1bd6f347', 'type': 'MANUAL'}]}, {'name': 'TYNESS 4324', 'uuid': '4b07b68f-7d1f-4f4e-b36f-d1788547abe6', 'datapoints': [{'name': 'Middle Station Grille Pain phase 1', 'uuid': 'c0de423e-2a55-4aa3-a821-44cccb4bc469', 'type': 'CT_A'}, {'name': 'Maintien au chaud HC2', 'uuid': '369140e8-9770-45bd-95da-2bc06b0ad55a', 'type': 'CT_A'}, {'name': 'KFC Chilly Humidite Salle Restaurant', 'uuid': '43768dd6-6ec0-4497-ad72-273fe9e53c5b', 'type': 'HUMIDITY'}, {'name': 'KFC Chilly Temperature Salle Restaurant ', 'uuid': '152c047b-0d36-4b48-bb1d-ef5ec51941c4', 'type': 'TEMPERATURE'}, {'name': 'Chute sandwich G', 'uuid': 'e843dc8e-23b5-4878-af99-fb4b81df516e', 'type': 'CT_A'}, {'name': 'Extracteur 2 phase 1', 'uuid': 'd7ad1c5b-56ea-4b16-b966-c7e3fe8e13af', 'type': 'CT_A'}, {'name': 'Extraction annexes VE02 phase 1', 'uuid': 'cc07fde8-9e36-433d-a2a2-69f060fac3ee', 'type': 'CT_A'}, {'name': 'Rooftop 2 cuisine phase 1', 'uuid': 'cbe5c5fc-0076-43d9-8d4d-a0a5fa1f8ee9', 'type': 'CT_A'}, {'name': 'Rooftop 1 restaurant phase 1', 'uuid': '230d9b13-02d1-43de-a40f-11e220d0e8f8', 'type': 'CT_A'}, {'name': 'Clim zone jeux phase 1', 'uuid': '857bbaeb-bfd5-4c78-a156-860388005f9b', 'type': 'CT_A'}, {'name': 'Froid négatif phase 1', 'uuid': 'c065c38b-51b3-46e3-b832-04f1d026389f', 'type': 'CT_A'}, {'name': 'Froid poulet phase 1', 'uuid': '658e0fab-bc8a-4778-b65f-46ce56e6d686', 'type': 'CT_A'}, {'name': 'Froid salade', 'uuid': '2ce3ffea-7f7d-4f21-a3e5-36b1e68c1d83', 'type': 'CT_A'}, {'name': 'Machine à laver', 'uuid': '21ac1937-ef53-4646-82de-78aa5a223f07', 'type': 'CT_A'}, {'name': 'Lave Plateaux phase 1', 'uuid': '27c30fc1-b4d5-46a1-94a7-07318109835b', 'type': 'CT_A'}, {'name': 'Extracteur cuisine phase 1', 'uuid': 'f8f65c53-7510-4ae4-92e9-8211efd9fc9a', 'type': 'CT_A'}, {'name': 'Maintien au chaud HC3', 'uuid': '8f5881b8-5b11-46e5-b24e-6f12a2e4d5cf', 'type': 'CT_A'}, {'name': 'Maintien au chaud HC1', 'uuid': '843d12fc-4c91-476e-8713-d0c31b45d9c9', 'type': 'CT_A'}, {'name': 'Friteuse fish phase 1', 'uuid': 'c92f7de9-7979-4071-86d1-fb29e358a495', 'type': 'CT_A'}, {'name': 'Friteuse frites 1 phase 1', 'uuid': '3fc98ab5-3fc2-4f8f-9f99-3d34bf719dc1', 'type': 'CT_A'}, {'name': 'Friteuse frites 2 phase 1', 'uuid': 'd75c3ec7-2893-4b32-b276-bf61c5d69fee', 'type': 'CT_A'}, {'name': 'Friteuse frites 3 phase 1', 'uuid': 'de665982-c753-4850-b639-1fea17f5aaee', 'type': 'CT_A'}, {'name': 'Friteuse HP poulet 2 phase 1', 'uuid': '23652797-8810-4bcb-bea6-f3f93dbae1d3', 'type': 'CT_A'}, {'name': 'Friteuse HP poulet 1 phase 1', 'uuid': '9fbca90d-bf94-4d92-955f-8812c476b0e3', 'type': 'CT_A'}, {'name': 'Friteuse poulet 4 phase 1', 'uuid': '38c59fae-46ff-4121-8b34-672fa8bef035', 'type': 'CT_A'}, {'name': 'Friteuse poulet 5 phase 1', 'uuid': '24568a9a-2840-4527-8aa1-9b0afa40704d', 'type': 'CT_A'}, {'name': 'Friteuse poulet 3 phase 1', 'uuid': 'bb90a1a4-ef7d-4699-bb7a-bd3c5658ffbe', 'type': 'CT_A'}, {'name': 'Four cookies phase 1', 'uuid': '3354523f-c62b-4c42-a207-35648affc22c', 'type': 'CT_A'}, {'name': 'Inconnu et negligeable phase 1', 'uuid': 'e61ee9c4-2c46-4280-a1d7-37a633702606', 'type': 'CT_A'}]}, {'name': 'weather_packs', 'uuid': '3702e6f6-9328-42c3-8831-ab2a1acc079a', 'datapoints': [{'name': '40466_SOLAR_POWER', 'uuid': '20c7e90d-60f2-4aba-996f-35854c587acf', 'type': 'SOLAR_POWER'}, {'name': '40466_TEMPERATURE_DJU', 'uuid': '662dcabe-8293-4d66-b5fc-6fd3c85c6323', 'type': 'TEMPERATURE_DJU'}, {'name': '40466_HUMIDITY', 'uuid': '5158d847-e129-44e2-bb0e-3163d6ffd28c', 'type': 'HUMIDITY'}, {'name': '40466_TEMPERATURE', 'uuid': '7fc5e401-4067-4bf3-8b98-b51c6b1a7550', 'type': 'TEMPERATURE'}]}]}]}\n"
     ]
    }
   ],
   "source": [
    "import requests\n",
    "import json\n",
    "\n",
    "url = \"https://ewattch.cloud/api/V2/organisation?api_key=V5klDGCOLHwkyBeEE4c7iOcl0Nd2fvJB&user_id=54938419-c0cc-4d11-a60d-9c31ee6301a4\"\n",
    "\n",
    "response = requests.get(url)\n",
    "\n",
    "if response.status_code == 200:\n",
    "    # Success! You can access the response content using response.text or response.json()\n",
    "    data = response.json()  # Assuming the response is in JSON format\n",
    "    print(data)\n",
    "else:\n",
    "    print(\"Failed to fetch data. Status code:\", response.status_code)\n"
   ],
   "metadata": {
    "collapsed": false,
    "ExecuteTime": {
     "end_time": "2024-04-22T12:41:29.216623Z",
     "start_time": "2024-04-22T12:41:29.013357Z"
    }
   },
   "id": "c4e8ba0f0bf74c96",
   "execution_count": 17
  },
  {
   "cell_type": "code",
   "outputs": [
    {
     "name": "stdout",
     "output_type": "stream",
     "text": [
      "{'error': 'Not found'}\n"
     ]
    }
   ],
   "source": [
    "url = \"https://ewattch.cloud/api/V2/datafetch\"\n",
    "\n",
    "response = requests.get(url)\n",
    "data = response.json()\n",
    "print(data)"
   ],
   "metadata": {
    "collapsed": false,
    "ExecuteTime": {
     "end_time": "2024-04-22T12:26:09.476419Z",
     "start_time": "2024-04-22T12:26:09.350864Z"
    }
   },
   "id": "3d7c7ab36c4e0ce8",
   "execution_count": 8
  },
  {
   "cell_type": "code",
   "outputs": [
    {
     "name": "stdout",
     "output_type": "stream",
     "text": [
      "{'name': 'CPE5 CHILLY', 'uuid': '2801104d-f289-432b-b354-7ac5effced0e', 'gateways': [{'name': 'enedis_50020804318283', 'uuid': '53d3ac1c-6f7e-45df-a0bd-6bdbaaed0106', 'datapoints': [{'name': 'Coût TELERELEVE_50020804318283_EA', 'uuid': 'e11efcf5-4357-46df-9ecc-135412cdd8ad', 'type': 'COST_INDEX'}, {'name': 'TELERELEVE_50020804318283_EA', 'uuid': 'd4e10211-ace9-4a01-a2ec-9253b5abaffc', 'type': 'TIC_ENEDIS'}, {'name': 'TELERELEVE_50020804318283_ER', 'uuid': '5497fba9-a0e9-41c8-8484-0cfaf88be474', 'type': 'TIC_ENEDIS_REACTIVE'}, {'name': 'TELERELEVE_50020804318283_ERC', 'uuid': 'ebcdddc2-436c-4598-8e5e-779abe4e9400', 'type': 'TIC_ENEDIS_REACTIVE'}, {'name': 'TELERELEVE_50020804318283_ERI', 'uuid': '1216a6cb-82b5-4422-8734-e3ae452974d4', 'type': 'TIC_ENEDIS_REACTIVE'}]}, {'name': 'manual', 'uuid': 'e49d6a1d-6b72-495c-bdee-4d7716b8cb20', 'datapoints': [{'name': \"Chiffre d'affaires\", 'uuid': 'e75fed0f-6a07-4e80-8b9d-808a1bd6f347', 'type': 'MANUAL'}]}, {'name': 'TYNESS 4324', 'uuid': '4b07b68f-7d1f-4f4e-b36f-d1788547abe6', 'datapoints': [{'name': 'Middle Station Grille Pain phase 1', 'uuid': 'c0de423e-2a55-4aa3-a821-44cccb4bc469', 'type': 'CT_A'}, {'name': 'Maintien au chaud HC2', 'uuid': '369140e8-9770-45bd-95da-2bc06b0ad55a', 'type': 'CT_A'}, {'name': 'KFC Chilly Humidite Salle Restaurant', 'uuid': '43768dd6-6ec0-4497-ad72-273fe9e53c5b', 'type': 'HUMIDITY'}, {'name': 'KFC Chilly Temperature Salle Restaurant ', 'uuid': '152c047b-0d36-4b48-bb1d-ef5ec51941c4', 'type': 'TEMPERATURE'}, {'name': 'Chute sandwich G', 'uuid': 'e843dc8e-23b5-4878-af99-fb4b81df516e', 'type': 'CT_A'}, {'name': 'Extracteur 2 phase 1', 'uuid': 'd7ad1c5b-56ea-4b16-b966-c7e3fe8e13af', 'type': 'CT_A'}, {'name': 'Extraction annexes VE02 phase 1', 'uuid': 'cc07fde8-9e36-433d-a2a2-69f060fac3ee', 'type': 'CT_A'}, {'name': 'Rooftop 2 cuisine phase 1', 'uuid': 'cbe5c5fc-0076-43d9-8d4d-a0a5fa1f8ee9', 'type': 'CT_A'}, {'name': 'Rooftop 1 restaurant phase 1', 'uuid': '230d9b13-02d1-43de-a40f-11e220d0e8f8', 'type': 'CT_A'}, {'name': 'Clim zone jeux phase 1', 'uuid': '857bbaeb-bfd5-4c78-a156-860388005f9b', 'type': 'CT_A'}, {'name': 'Froid négatif phase 1', 'uuid': 'c065c38b-51b3-46e3-b832-04f1d026389f', 'type': 'CT_A'}, {'name': 'Froid poulet phase 1', 'uuid': '658e0fab-bc8a-4778-b65f-46ce56e6d686', 'type': 'CT_A'}, {'name': 'Froid salade', 'uuid': '2ce3ffea-7f7d-4f21-a3e5-36b1e68c1d83', 'type': 'CT_A'}, {'name': 'Machine à laver', 'uuid': '21ac1937-ef53-4646-82de-78aa5a223f07', 'type': 'CT_A'}, {'name': 'Lave Plateaux phase 1', 'uuid': '27c30fc1-b4d5-46a1-94a7-07318109835b', 'type': 'CT_A'}, {'name': 'Extracteur cuisine phase 1', 'uuid': 'f8f65c53-7510-4ae4-92e9-8211efd9fc9a', 'type': 'CT_A'}, {'name': 'Maintien au chaud HC3', 'uuid': '8f5881b8-5b11-46e5-b24e-6f12a2e4d5cf', 'type': 'CT_A'}, {'name': 'Maintien au chaud HC1', 'uuid': '843d12fc-4c91-476e-8713-d0c31b45d9c9', 'type': 'CT_A'}, {'name': 'Friteuse fish phase 1', 'uuid': 'c92f7de9-7979-4071-86d1-fb29e358a495', 'type': 'CT_A'}, {'name': 'Friteuse frites 1 phase 1', 'uuid': '3fc98ab5-3fc2-4f8f-9f99-3d34bf719dc1', 'type': 'CT_A'}, {'name': 'Friteuse frites 2 phase 1', 'uuid': 'd75c3ec7-2893-4b32-b276-bf61c5d69fee', 'type': 'CT_A'}, {'name': 'Friteuse frites 3 phase 1', 'uuid': 'de665982-c753-4850-b639-1fea17f5aaee', 'type': 'CT_A'}, {'name': 'Friteuse HP poulet 2 phase 1', 'uuid': '23652797-8810-4bcb-bea6-f3f93dbae1d3', 'type': 'CT_A'}, {'name': 'Friteuse HP poulet 1 phase 1', 'uuid': '9fbca90d-bf94-4d92-955f-8812c476b0e3', 'type': 'CT_A'}, {'name': 'Friteuse poulet 4 phase 1', 'uuid': '38c59fae-46ff-4121-8b34-672fa8bef035', 'type': 'CT_A'}, {'name': 'Friteuse poulet 5 phase 1', 'uuid': '24568a9a-2840-4527-8aa1-9b0afa40704d', 'type': 'CT_A'}, {'name': 'Friteuse poulet 3 phase 1', 'uuid': 'bb90a1a4-ef7d-4699-bb7a-bd3c5658ffbe', 'type': 'CT_A'}, {'name': 'Four cookies phase 1', 'uuid': '3354523f-c62b-4c42-a207-35648affc22c', 'type': 'CT_A'}, {'name': 'Inconnu et negligeable phase 1', 'uuid': 'e61ee9c4-2c46-4280-a1d7-37a633702606', 'type': 'CT_A'}]}, {'name': 'weather_packs', 'uuid': '3702e6f6-9328-42c3-8831-ab2a1acc079a', 'datapoints': [{'name': '40466_SOLAR_POWER', 'uuid': '20c7e90d-60f2-4aba-996f-35854c587acf', 'type': 'SOLAR_POWER'}, {'name': '40466_TEMPERATURE_DJU', 'uuid': '662dcabe-8293-4d66-b5fc-6fd3c85c6323', 'type': 'TEMPERATURE_DJU'}, {'name': '40466_HUMIDITY', 'uuid': '5158d847-e129-44e2-bb0e-3163d6ffd28c', 'type': 'HUMIDITY'}, {'name': '40466_TEMPERATURE', 'uuid': '7fc5e401-4067-4bf3-8b98-b51c6b1a7550', 'type': 'TEMPERATURE'}]}]}\n"
     ]
    }
   ],
   "source": [
    "\n",
    "url = \"https://ewattch.cloud/api/V2/structure?api_key=V5klDGCOLHwkyBeEE4c7iOcl0Nd2fvJB&user_id=54938419-c0cc-4d11-a60d-9c31ee6301a4&uuid=9fbca90d-bf94-4d92-955f-8812c476b0e3\"\n",
    "response = requests.get(url)\n",
    "data = response.json()\n",
    "\n",
    "print(data)"
   ],
   "metadata": {
    "collapsed": false,
    "ExecuteTime": {
     "end_time": "2024-04-22T13:17:40.027724Z",
     "start_time": "2024-04-22T13:17:39.816289Z"
    }
   },
   "id": "33e4ec85654dc4ac",
   "execution_count": 43
  },
  {
   "cell_type": "code",
   "outputs": [],
   "source": [
    "import requests\n",
    "\n",
    "url = \"https://ewattch.cloud/api/V2/datafetch?api_key=V5klDGCOLHwkyBeEE4c7iOcl0Nd2fvJB&user_id=54938419-c0cc-4d11-a60d-9c31ee6301a4\"\n",
    "# Assuming you have some data to send in the request body\n",
    "data = {\n",
    "    \"dates\": [\"now-1d\",\"now\"],\n",
    "    \"sampling\": [\"live\"],\n",
    "    \"datapoint_uuids\": [\"c92f7de9-7979-4071-86d1-fb29e358a495\"]\n",
    "}\n",
    "\n",
    "response = requests.post(url, json=data)\n",
    "\n",
    "if response.status_code == 200:\n",
    "    # Success! You can access the response content using response.text or response.json()\n",
    "    data = response.json()  # Assuming the response is in JSON format\n",
    "    #print(data)\n",
    "else:\n",
    "    print(\"Failed to fetch data. Status code:\", response.status_code)\n",
    "\n",
    "file_path = \"Friteuse fish phase 1.json\"\n",
    "\n",
    "# Open the file in write mode and save the data\n",
    "with open(file_path, 'w') as json_file:\n",
    "    json.dump(data, json_file, indent=4)  # Indent argument is optional, it adds pretty formatting"
   ],
   "metadata": {
    "collapsed": false,
    "ExecuteTime": {
     "end_time": "2024-04-22T13:25:37.255330Z",
     "start_time": "2024-04-22T13:25:36.814527Z"
    }
   },
   "id": "31f9c85e682952ba",
   "execution_count": 46
  },
  {
   "cell_type": "code",
   "outputs": [
    {
     "name": "stdout",
     "output_type": "stream",
     "text": [
      "Name: Coût TELERELEVE_50020804318283_EA\n",
      "Type: COST_INDEX\n",
      "Sampling: month\n",
      "Unit: €\n",
      "----------------------\n",
      "Name: TELERELEVE_50020804318283_EA\n",
      "Type: TIC_ENEDIS\n",
      "Sampling: month\n",
      "Unit: Wh\n",
      "Series:\n",
      "\t 2022-01 : 3239395563.0\n",
      "\t 2022-03 : 3311672250.0\n",
      "\t 2022-04 : 3346579426.0\n",
      "\t 2022-05 : 3379713937.0\n",
      "\t 2022-06 : 3412244945.0\n",
      "\t 2022-07 : 3447790453.0\n",
      "\t 2022-08 : 3482011213.0\n",
      "\t 2022-09 : 3511921722.0\n",
      "\t 2022-10 : 3540523900.0\n",
      "\t 2022-11 : 3566978913.0\n",
      "\t 2022-12 : 3599102000.0\n",
      "\t 2023-01 : 3629928000.0\n",
      "\t 2023-02 : 3655807000.0\n",
      "\t 2023-03 : 3681851000.0\n",
      "\t 2023-04 : 3705985000.0\n",
      "\t 2023-05 : 3732105000.0\n",
      "\t 2023-06 : 3760773000.0\n",
      "\t 2023-07 : 3790855000.0\n",
      "\t 2023-08 : 3820823000.0\n",
      "\t 2023-09 : 3850434000.0\n",
      "\t 2023-10 : 3878787000.0\n",
      "\t 2023-11 : 3907274000.0\n",
      "\t 2023-12 : 3937563000.0\n",
      "----------------------\n",
      "Name: TELERELEVE_50020804318283_ER\n",
      "Type: TIC_ENEDIS_REACTIVE\n",
      "Sampling: month\n",
      "Unit: varh\n",
      "----------------------\n",
      "Name: TELERELEVE_50020804318283_ERC\n",
      "Type: TIC_ENEDIS_REACTIVE\n",
      "Sampling: month\n",
      "Unit: varh\n",
      "Series:\n",
      "\t 2022-12 : 95000.0\n",
      "\t 2023-01 : 100000.0\n",
      "\t 2023-02 : 101000.0\n",
      "\t 2023-03 : 105000.0\n",
      "\t 2023-04 : 113000.0\n",
      "\t 2023-05 : 116000.0\n",
      "\t 2023-06 : 116000.0\n",
      "\t 2023-07 : 117000.0\n",
      "\t 2023-08 : 117000.0\n",
      "\t 2023-09 : 117000.0\n",
      "\t 2023-10 : 118000.0\n",
      "\t 2023-11 : 120000.0\n",
      "\t 2023-12 : 123000.0\n",
      "----------------------\n",
      "Name: TELERELEVE_50020804318283_ERI\n",
      "Type: TIC_ENEDIS_REACTIVE\n",
      "Sampling: month\n",
      "Unit: varh\n",
      "Series:\n",
      "\t 2022-12 : 908182000.0\n",
      "\t 2023-01 : 914390000.0\n",
      "\t 2023-02 : 919460000.0\n",
      "\t 2023-03 : 925089000.0\n",
      "\t 2023-04 : 929782000.0\n",
      "\t 2023-05 : 935862000.0\n",
      "\t 2023-06 : 944424000.0\n",
      "\t 2023-07 : 952923000.0\n",
      "\t 2023-08 : 961404000.0\n",
      "\t 2023-09 : 969425000.0\n",
      "\t 2023-10 : 975176000.0\n",
      "\t 2023-11 : 980841000.0\n",
      "\t 2023-12 : 986568000.0\n",
      "----------------------\n"
     ]
    }
   ],
   "source": [
    "data = [{'structure_uuid': '2801104d-f289-432b-b354-7ac5effced0e', 'gateway_uuid': '53d3ac1c-6f7e-45df-a0bd-6bdbaaed0106', 'name': 'Coût TELERELEVE_50020804318283_EA', 'uuid': 'e11efcf5-4357-46df-9ecc-135412cdd8ad', 'type': 'COST_INDEX', 'sampling': 'month', 'unit': '€', 'series': []}, {'structure_uuid': '2801104d-f289-432b-b354-7ac5effced0e', 'gateway_uuid': '53d3ac1c-6f7e-45df-a0bd-6bdbaaed0106', 'name': 'TELERELEVE_50020804318283_EA', 'uuid': 'd4e10211-ace9-4a01-a2ec-9253b5abaffc', 'type': 'TIC_ENEDIS', 'sampling': 'month', 'unit': 'Wh', 'series': [['2022-01', '3239395563.0'], ['2022-03', '3311672250.0'], ['2022-04', '3346579426.0'], ['2022-05', '3379713937.0'], ['2022-06', '3412244945.0'], ['2022-07', '3447790453.0'], ['2022-08', '3482011213.0'], ['2022-09', '3511921722.0'], ['2022-10', '3540523900.0'], ['2022-11', '3566978913.0'], ['2022-12', '3599102000.0'], ['2023-01', '3629928000.0'], ['2023-02', '3655807000.0'], ['2023-03', '3681851000.0'], ['2023-04', '3705985000.0'], ['2023-05', '3732105000.0'], ['2023-06', '3760773000.0'], ['2023-07', '3790855000.0'], ['2023-08', '3820823000.0'], ['2023-09', '3850434000.0'], ['2023-10', '3878787000.0'], ['2023-11', '3907274000.0'], ['2023-12', '3937563000.0']]}, {'structure_uuid': '2801104d-f289-432b-b354-7ac5effced0e', 'gateway_uuid': '53d3ac1c-6f7e-45df-a0bd-6bdbaaed0106', 'name': 'TELERELEVE_50020804318283_ER', 'uuid': '5497fba9-a0e9-41c8-8484-0cfaf88be474', 'type': 'TIC_ENEDIS_REACTIVE', 'sampling': 'month', 'unit': 'varh', 'series': []}, {'structure_uuid': '2801104d-f289-432b-b354-7ac5effced0e', 'gateway_uuid': '53d3ac1c-6f7e-45df-a0bd-6bdbaaed0106', 'name': 'TELERELEVE_50020804318283_ERC', 'uuid': 'ebcdddc2-436c-4598-8e5e-779abe4e9400', 'type': 'TIC_ENEDIS_REACTIVE', 'sampling': 'month', 'unit': 'varh', 'series': [['2022-12', '95000.0'], ['2023-01', '100000.0'], ['2023-02', '101000.0'], ['2023-03', '105000.0'], ['2023-04', '113000.0'], ['2023-05', '116000.0'], ['2023-06', '116000.0'], ['2023-07', '117000.0'], ['2023-08', '117000.0'], ['2023-09', '117000.0'], ['2023-10', '118000.0'], ['2023-11', '120000.0'], ['2023-12', '123000.0']]}, {'structure_uuid': '2801104d-f289-432b-b354-7ac5effced0e', 'gateway_uuid': '53d3ac1c-6f7e-45df-a0bd-6bdbaaed0106', 'name': 'TELERELEVE_50020804318283_ERI', 'uuid': '1216a6cb-82b5-4422-8734-e3ae452974d4', 'type': 'TIC_ENEDIS_REACTIVE', 'sampling': 'month', 'unit': 'varh', 'series': [['2022-12', '908182000.0'], ['2023-01', '914390000.0'], ['2023-02', '919460000.0'], ['2023-03', '925089000.0'], ['2023-04', '929782000.0'], ['2023-05', '935862000.0'], ['2023-06', '944424000.0'], ['2023-07', '952923000.0'], ['2023-08', '961404000.0'], ['2023-09', '969425000.0'], ['2023-10', '975176000.0'], ['2023-11', '980841000.0'], ['2023-12', '986568000.0']]}]\n",
    "\n",
    "for item in data:\n",
    "    print(\"Name:\", item['name'])\n",
    "    print(\"Type:\", item['type'])\n",
    "    print(\"Sampling:\", item['sampling'])\n",
    "    print(\"Unit:\", item['unit'])\n",
    "    if item['series']:\n",
    "        print(\"Series:\")\n",
    "        for series_item in item['series']:\n",
    "            print(\"\\t\", series_item[0], \":\", series_item[1])\n",
    "    print(\"----------------------\")\n"
   ],
   "metadata": {
    "collapsed": false,
    "ExecuteTime": {
     "end_time": "2024-04-22T12:39:03.515636Z",
     "start_time": "2024-04-22T12:39:03.512679Z"
    }
   },
   "id": "9eb51c68ec654369",
   "execution_count": 16
  },
  {
   "cell_type": "code",
   "outputs": [
    {
     "data": {
      "text/plain": "1057.1858"
     },
     "execution_count": 48,
     "metadata": {},
     "output_type": "execute_result"
    }
   ],
   "source": [
    "4805.39 * 220 / 1000"
   ],
   "metadata": {
    "collapsed": false,
    "ExecuteTime": {
     "end_time": "2024-04-22T13:31:28.533701Z",
     "start_time": "2024-04-22T13:31:28.531871Z"
    }
   },
   "id": "c184d4fa29463219",
   "execution_count": 48
  },
  {
   "cell_type": "code",
   "outputs": [],
   "source": [],
   "metadata": {
    "collapsed": false
   },
   "id": "ee7788d50bc94fdb"
  }
 ],
 "metadata": {
  "kernelspec": {
   "display_name": "Python 3",
   "language": "python",
   "name": "python3"
  },
  "language_info": {
   "codemirror_mode": {
    "name": "ipython",
    "version": 2
   },
   "file_extension": ".py",
   "mimetype": "text/x-python",
   "name": "python",
   "nbconvert_exporter": "python",
   "pygments_lexer": "ipython2",
   "version": "2.7.6"
  }
 },
 "nbformat": 4,
 "nbformat_minor": 5
}
